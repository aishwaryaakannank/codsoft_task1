{
 "cells": [
  {
   "cell_type": "code",
   "execution_count": 5,
   "id": "e60bc438-c039-4130-81ab-a84a11a45f8f",
   "metadata": {},
   "outputs": [
    {
     "name": "stdout",
     "output_type": "stream",
     "text": [
      "\n",
      "=== TO-DO LIST MENU ===\n",
      "1. View Tasks\n",
      "2. Add Task\n",
      "3. Mark Task as Done\n",
      "4. Delete Task\n",
      "5. Update Task\n",
      "6. Exit\n"
     ]
    },
    {
     "name": "stdin",
     "output_type": "stream",
     "text": [
      "Enter your choice (1-6):  2\n",
      "Enter task:  execise\n"
     ]
    },
    {
     "name": "stdout",
     "output_type": "stream",
     "text": [
      "Task 'execise' added.\n",
      "\n",
      "=== TO-DO LIST MENU ===\n",
      "1. View Tasks\n",
      "2. Add Task\n",
      "3. Mark Task as Done\n",
      "4. Delete Task\n",
      "5. Update Task\n",
      "6. Exit\n"
     ]
    },
    {
     "name": "stdin",
     "output_type": "stream",
     "text": [
      "Enter your choice (1-6):  2\n",
      "Enter task:  water plants\n"
     ]
    },
    {
     "name": "stdout",
     "output_type": "stream",
     "text": [
      "Task 'water plants' added.\n",
      "\n",
      "=== TO-DO LIST MENU ===\n",
      "1. View Tasks\n",
      "2. Add Task\n",
      "3. Mark Task as Done\n",
      "4. Delete Task\n",
      "5. Update Task\n",
      "6. Exit\n"
     ]
    },
    {
     "name": "stdin",
     "output_type": "stream",
     "text": [
      "Enter your choice (1-6):  2\n",
      "Enter task:  cook meals\n"
     ]
    },
    {
     "name": "stdout",
     "output_type": "stream",
     "text": [
      "Task 'cook meals' added.\n",
      "\n",
      "=== TO-DO LIST MENU ===\n",
      "1. View Tasks\n",
      "2. Add Task\n",
      "3. Mark Task as Done\n",
      "4. Delete Task\n",
      "5. Update Task\n",
      "6. Exit\n"
     ]
    },
    {
     "name": "stdin",
     "output_type": "stream",
     "text": [
      "Enter your choice (1-6):  2\n",
      "Enter task:  do homework\n"
     ]
    },
    {
     "name": "stdout",
     "output_type": "stream",
     "text": [
      "Task 'do homework' added.\n",
      "\n",
      "=== TO-DO LIST MENU ===\n",
      "1. View Tasks\n",
      "2. Add Task\n",
      "3. Mark Task as Done\n",
      "4. Delete Task\n",
      "5. Update Task\n",
      "6. Exit\n"
     ]
    },
    {
     "name": "stdin",
     "output_type": "stream",
     "text": [
      "Enter your choice (1-6):  1\n"
     ]
    },
    {
     "name": "stdout",
     "output_type": "stream",
     "text": [
      "\n",
      "Your Tasks:\n",
      "1. execise [❌ Not Done]\n",
      "2. water plants [❌ Not Done]\n",
      "3. cook meals [❌ Not Done]\n",
      "4. do homework [❌ Not Done]\n",
      "\n",
      "=== TO-DO LIST MENU ===\n",
      "1. View Tasks\n",
      "2. Add Task\n",
      "3. Mark Task as Done\n",
      "4. Delete Task\n",
      "5. Update Task\n",
      "6. Exit\n"
     ]
    },
    {
     "name": "stdin",
     "output_type": "stream",
     "text": [
      "Enter your choice (1-6):  3\n",
      "Enter task number to mark as done:  2\n"
     ]
    },
    {
     "name": "stdout",
     "output_type": "stream",
     "text": [
      "Task marked as done.\n",
      "\n",
      "=== TO-DO LIST MENU ===\n",
      "1. View Tasks\n",
      "2. Add Task\n",
      "3. Mark Task as Done\n",
      "4. Delete Task\n",
      "5. Update Task\n",
      "6. Exit\n"
     ]
    },
    {
     "name": "stdin",
     "output_type": "stream",
     "text": [
      "Enter your choice (1-6):  2\n",
      "Enter task:  send mail\n"
     ]
    },
    {
     "name": "stdout",
     "output_type": "stream",
     "text": [
      "Task 'send mail' added.\n",
      "\n",
      "=== TO-DO LIST MENU ===\n",
      "1. View Tasks\n",
      "2. Add Task\n",
      "3. Mark Task as Done\n",
      "4. Delete Task\n",
      "5. Update Task\n",
      "6. Exit\n"
     ]
    },
    {
     "name": "stdin",
     "output_type": "stream",
     "text": [
      "Enter your choice (1-6):  1\n"
     ]
    },
    {
     "name": "stdout",
     "output_type": "stream",
     "text": [
      "\n",
      "Your Tasks:\n",
      "1. execise [❌ Not Done]\n",
      "2. water plants [✅ Done]\n",
      "3. cook meals [❌ Not Done]\n",
      "4. do homework [❌ Not Done]\n",
      "5. send mail [❌ Not Done]\n",
      "\n",
      "=== TO-DO LIST MENU ===\n",
      "1. View Tasks\n",
      "2. Add Task\n",
      "3. Mark Task as Done\n",
      "4. Delete Task\n",
      "5. Update Task\n",
      "6. Exit\n"
     ]
    },
    {
     "name": "stdin",
     "output_type": "stream",
     "text": [
      "Enter your choice (1-6):  4\n",
      "Enter task number to delete:  3\n"
     ]
    },
    {
     "name": "stdout",
     "output_type": "stream",
     "text": [
      "Task 'cook meals' deleted.\n",
      "\n",
      "=== TO-DO LIST MENU ===\n",
      "1. View Tasks\n",
      "2. Add Task\n",
      "3. Mark Task as Done\n",
      "4. Delete Task\n",
      "5. Update Task\n",
      "6. Exit\n"
     ]
    },
    {
     "name": "stdin",
     "output_type": "stream",
     "text": [
      "Enter your choice (1-6):  1\n"
     ]
    },
    {
     "name": "stdout",
     "output_type": "stream",
     "text": [
      "\n",
      "Your Tasks:\n",
      "1. execise [❌ Not Done]\n",
      "2. water plants [✅ Done]\n",
      "3. do homework [❌ Not Done]\n",
      "4. send mail [❌ Not Done]\n",
      "\n",
      "=== TO-DO LIST MENU ===\n",
      "1. View Tasks\n",
      "2. Add Task\n",
      "3. Mark Task as Done\n",
      "4. Delete Task\n",
      "5. Update Task\n",
      "6. Exit\n"
     ]
    },
    {
     "name": "stdin",
     "output_type": "stream",
     "text": [
      "Enter your choice (1-6):  5\n",
      "Enter task number to update:  1\n",
      "Enter the new task description:  meditate\n"
     ]
    },
    {
     "name": "stdout",
     "output_type": "stream",
     "text": [
      "Task updated successfully.\n",
      "\n",
      "=== TO-DO LIST MENU ===\n",
      "1. View Tasks\n",
      "2. Add Task\n",
      "3. Mark Task as Done\n",
      "4. Delete Task\n",
      "5. Update Task\n",
      "6. Exit\n"
     ]
    },
    {
     "name": "stdin",
     "output_type": "stream",
     "text": [
      "Enter your choice (1-6):  3\n",
      "Enter task number to mark as done:  1\n"
     ]
    },
    {
     "name": "stdout",
     "output_type": "stream",
     "text": [
      "Task marked as done.\n",
      "\n",
      "=== TO-DO LIST MENU ===\n",
      "1. View Tasks\n",
      "2. Add Task\n",
      "3. Mark Task as Done\n",
      "4. Delete Task\n",
      "5. Update Task\n",
      "6. Exit\n"
     ]
    },
    {
     "name": "stdin",
     "output_type": "stream",
     "text": [
      "Enter your choice (1-6):  1\n"
     ]
    },
    {
     "name": "stdout",
     "output_type": "stream",
     "text": [
      "\n",
      "Your Tasks:\n",
      "1. meditate [✅ Done]\n",
      "2. water plants [✅ Done]\n",
      "3. do homework [❌ Not Done]\n",
      "4. send mail [❌ Not Done]\n",
      "\n",
      "=== TO-DO LIST MENU ===\n",
      "1. View Tasks\n",
      "2. Add Task\n",
      "3. Mark Task as Done\n",
      "4. Delete Task\n",
      "5. Update Task\n",
      "6. Exit\n"
     ]
    },
    {
     "name": "stdin",
     "output_type": "stream",
     "text": [
      "Enter your choice (1-6):  6\n"
     ]
    },
    {
     "name": "stdout",
     "output_type": "stream",
     "text": [
      "Exiting To-Do List. Goodbye!\n"
     ]
    }
   ],
   "source": [
    "tasks = []\n",
    "\n",
    "while True:\n",
    "    print(\"\\n=== TO-DO LIST MENU ===\")\n",
    "    print(\"1. View Tasks\")\n",
    "    print(\"2. Add Task\")\n",
    "    print(\"3. Mark Task as Done\")\n",
    "    print(\"4. Delete Task\")\n",
    "    print(\"5. Update Task\")\n",
    "    print(\"6. Exit\")\n",
    "\n",
    "    choice = input(\"Enter your choice (1-6): \")\n",
    "\n",
    "    if choice == '1':\n",
    "        if not tasks:\n",
    "            print(\"No tasks yet.\")\n",
    "        else:\n",
    "            print(\"\\nYour Tasks:\")\n",
    "            for i, t in enumerate(tasks, 1):\n",
    "                status = \"✅ Done\" if t['done'] else \"❌ Not Done\"\n",
    "                print(f\"{i}. {t['task']} [{status}]\")\n",
    "\n",
    "    elif choice == '2':\n",
    "        task_name = input(\"Enter task: \")\n",
    "        tasks.append({\"task\": task_name, \"done\": False})\n",
    "        print(f\"Task '{task_name}' added.\")\n",
    "\n",
    "    elif choice == '3':\n",
    "        if not tasks:\n",
    "            print(\"No tasks to mark.\")\n",
    "        else:\n",
    "            task_no = int(input(\"Enter task number to mark as done: \"))\n",
    "            if 1 <= task_no <= len(tasks):\n",
    "                tasks[task_no - 1]['done'] = True\n",
    "                print(\"Task marked as done.\")\n",
    "            else:\n",
    "                print(\"Invalid task number.\")\n",
    "\n",
    "    elif choice == '4':\n",
    "        if not tasks:\n",
    "            print(\"No tasks to delete.\")\n",
    "        else:\n",
    "            task_no = int(input(\"Enter task number to delete: \"))\n",
    "            if 1 <= task_no <= len(tasks):\n",
    "                removed = tasks.pop(task_no - 1)\n",
    "                print(f\"Task '{removed['task']}' deleted.\")\n",
    "            else:\n",
    "                print(\"Invalid task number.\")\n",
    "\n",
    "    elif choice == '5':\n",
    "        if not tasks:\n",
    "            print(\"No tasks to update.\")\n",
    "        else:\n",
    "            task_no = int(input(\"Enter task number to update: \"))\n",
    "            if 1 <= task_no <= len(tasks):\n",
    "                new_task = input(\"Enter the new task description: \")\n",
    "                tasks[task_no - 1]['task'] = new_task\n",
    "                print(\"Task updated successfully.\")\n",
    "            else:\n",
    "                print(\"Invalid task number.\")\n",
    "\n",
    "    elif choice == '6':\n",
    "        print(\"Exiting To-Do List. Goodbye!\")\n",
    "        break\n",
    "\n",
    "    else:\n",
    "        print(\"Invalid choice! Please enter 1-6.\")\n"
   ]
  },
  {
   "cell_type": "code",
   "execution_count": null,
   "id": "4ac19751-95e1-4b2e-bd45-2e4c3aa4a38d",
   "metadata": {},
   "outputs": [],
   "source": []
  }
 ],
 "metadata": {
  "kernelspec": {
   "display_name": "Python 3 (ipykernel)",
   "language": "python",
   "name": "python3"
  },
  "language_info": {
   "codemirror_mode": {
    "name": "ipython",
    "version": 3
   },
   "file_extension": ".py",
   "mimetype": "text/x-python",
   "name": "python",
   "nbconvert_exporter": "python",
   "pygments_lexer": "ipython3",
   "version": "3.12.7"
  }
 },
 "nbformat": 4,
 "nbformat_minor": 5
}
